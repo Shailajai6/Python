{
 "cells": [
  {
   "cell_type": "markdown",
   "metadata": {},
   "source": [
    "# Sorting and Searching"
   ]
  },
  {
   "cell_type": "markdown",
   "metadata": {},
   "source": [
    "# Sequential search"
   ]
  },
  {
   "cell_type": "code",
   "execution_count": 15,
   "metadata": {},
   "outputs": [],
   "source": [
    "def seq_search(arr,ele):\n",
    "    pos=0\n",
    "    found=False\n",
    "    while pos<len(arr) and not found:\n",
    "        if arr[pos]==ele:\n",
    "            found=True\n",
    "        else:\n",
    "            pos+=1\n",
    "    return found"
   ]
  },
  {
   "cell_type": "code",
   "execution_count": 16,
   "metadata": {},
   "outputs": [
    {
     "data": {
      "text/plain": [
       "True"
      ]
     },
     "execution_count": 16,
     "metadata": {},
     "output_type": "execute_result"
    }
   ],
   "source": [
    "arr=[1,2,3,4,5,6]\n",
    "seq_search(arr,3)"
   ]
  },
  {
   "cell_type": "code",
   "execution_count": 17,
   "metadata": {},
   "outputs": [],
   "source": [
    "def order_seq_search(arr,ele):\n",
    "    pos=0\n",
    "    found=False\n",
    "    stopped=False\n",
    "    while pos<len(arr) and not found and not stopped:\n",
    "        if arr[pos]==ele:\n",
    "            found =True\n",
    "        else:\n",
    "            if arr[pos]>ele:\n",
    "                stopped=True\n",
    "            else:\n",
    "                pos+=1\n",
    "    return found"
   ]
  },
  {
   "cell_type": "code",
   "execution_count": 18,
   "metadata": {},
   "outputs": [
    {
     "data": {
      "text/plain": [
       "True"
      ]
     },
     "execution_count": 18,
     "metadata": {},
     "output_type": "execute_result"
    }
   ],
   "source": [
    "order_seq_search(arr,3)"
   ]
  },
  {
   "cell_type": "markdown",
   "metadata": {},
   "source": [
    "# Binary Search"
   ]
  },
  {
   "cell_type": "code",
   "execution_count": 19,
   "metadata": {},
   "outputs": [],
   "source": [
    "def binary_search(arr,ele):\n",
    "    last=len(arr)-1\n",
    "    first=0\n",
    "    \n",
    "    found=False\n",
    "    while first<=last and not found:\n",
    "        mid=int((first+last)/2)\n",
    "        if arr[mid]==ele:\n",
    "            found=True\n",
    "        else:\n",
    "            if ele<arr[mid]:\n",
    "                last=mid-1\n",
    "            else:\n",
    "                first=mid+1\n",
    "    return found"
   ]
  },
  {
   "cell_type": "code",
   "execution_count": 20,
   "metadata": {},
   "outputs": [
    {
     "data": {
      "text/plain": [
       "True"
      ]
     },
     "execution_count": 20,
     "metadata": {},
     "output_type": "execute_result"
    }
   ],
   "source": [
    "binary_search(arr,6)"
   ]
  },
  {
   "cell_type": "code",
   "execution_count": 24,
   "metadata": {},
   "outputs": [],
   "source": [
    "def rec_binarysearch(arr,ele):\n",
    "    if len(arr)==0:\n",
    "        return False\n",
    "    else:\n",
    "        first=0\n",
    "        last=len(arr)-1\n",
    "        mid=int((first+last)/2)\n",
    "        if ele==arr[mid]:\n",
    "            return True\n",
    "        else:\n",
    "            if ele<arr[mid]:\n",
    "                return rec_binarysearch(arr[:mid],ele)\n",
    "            else:\n",
    "                return rec_binarysearch(arr[(mid+1):],ele)"
   ]
  },
  {
   "cell_type": "code",
   "execution_count": 26,
   "metadata": {},
   "outputs": [
    {
     "data": {
      "text/plain": [
       "True"
      ]
     },
     "execution_count": 26,
     "metadata": {},
     "output_type": "execute_result"
    }
   ],
   "source": [
    "rec_binarysearch(arr,6)"
   ]
  },
  {
   "cell_type": "markdown",
   "metadata": {},
   "source": [
    "# Bubble Sort"
   ]
  },
  {
   "cell_type": "code",
   "execution_count": 29,
   "metadata": {},
   "outputs": [],
   "source": [
    "def bubble_sort(arr):\n",
    "    x=len(arr)-1\n",
    "    for i in range(x,0,-1):\n",
    "        for j in range(i):\n",
    "            if arr[j]>arr[j+1]:\n",
    "                temp=arr[j]\n",
    "                arr[j]=arr[j+1]\n",
    "                arr[j+1]=temp\n",
    "    return arr\n",
    "            "
   ]
  },
  {
   "cell_type": "code",
   "execution_count": 31,
   "metadata": {},
   "outputs": [
    {
     "data": {
      "text/plain": [
       "[62, 85, 99, 100, 100, 101, 101, 102, 103]"
      ]
     },
     "execution_count": 31,
     "metadata": {},
     "output_type": "execute_result"
    }
   ],
   "source": [
    "bubble_sort([100,99,85,62,100,101,102,101,103])"
   ]
  },
  {
   "cell_type": "markdown",
   "metadata": {},
   "source": [
    "# Bubble Sort"
   ]
  },
  {
   "cell_type": "code",
   "execution_count": 36,
   "metadata": {},
   "outputs": [],
   "source": [
    "def bubble1_sort(arr):\n",
    "    b=len(arr)-1\n",
    "    for m in range(b):\n",
    "        for k in range(b-m):\n",
    "            if arr[k]>arr[k+1]:\n",
    "                temp=arr[k]\n",
    "                arr[k]=arr[k+1]\n",
    "                arr[k+1]=temp\n",
    "                \n",
    "    return arr"
   ]
  },
  {
   "cell_type": "code",
   "execution_count": 37,
   "metadata": {},
   "outputs": [
    {
     "data": {
      "text/plain": [
       "[10, 20, 40, 50, 60]"
      ]
     },
     "execution_count": 37,
     "metadata": {},
     "output_type": "execute_result"
    }
   ],
   "source": [
    "bubble1_sort([50,60,40,10,20])"
   ]
  },
  {
   "cell_type": "markdown",
   "metadata": {},
   "source": [
    "# Selection Sort"
   ]
  },
  {
   "cell_type": "code",
   "execution_count": 52,
   "metadata": {},
   "outputs": [],
   "source": [
    "def selecton_sort(arr):\n",
    "    b=len(arr)\n",
    "    for i in range(b):\n",
    "        min_pos=i\n",
    "        for j in range(i+1,b):\n",
    "            if arr[min_pos]>arr[j]:\n",
    "                min_pos=j\n",
    "        arr[min_pos],arr[i]=arr[i],arr[min_pos]\n",
    "    return arr"
   ]
  },
  {
   "cell_type": "code",
   "execution_count": 79,
   "metadata": {},
   "outputs": [
    {
     "data": {
      "text/plain": [
       "[2, 10, 20, 23, 40, 60, 99, 100, 110, 220, 345]"
      ]
     },
     "execution_count": 79,
     "metadata": {},
     "output_type": "execute_result"
    }
   ],
   "source": [
    "arr=[40,60,20,10,100,110,99,2,220,23,345]\n",
    "selecton_sort(arr)"
   ]
  },
  {
   "cell_type": "code",
   "execution_count": 80,
   "metadata": {},
   "outputs": [],
   "source": [
    "def selection1_sort(arr):\n",
    "    b=len(arr)-1\n",
    "    for i in range(b,0,-1):\n",
    "        max_idx=0\n",
    "        for j in range(1,i+1):\n",
    "            if arr[j]>arr[max_idx]:\n",
    "                max_idx=j\n",
    "        temp=arr[i]\n",
    "        arr[i]=arr[max_idx]\n",
    "        arr[max_idx]=temp\n",
    "    return arr"
   ]
  },
  {
   "cell_type": "code",
   "execution_count": 81,
   "metadata": {},
   "outputs": [
    {
     "data": {
      "text/plain": [
       "[2, 10, 20, 23, 40, 60, 99, 100, 110, 220, 345]"
      ]
     },
     "execution_count": 81,
     "metadata": {},
     "output_type": "execute_result"
    }
   ],
   "source": [
    "selection1_sort(arr)"
   ]
  },
  {
   "cell_type": "markdown",
   "metadata": {},
   "source": [
    "# Insertion Sort"
   ]
  },
  {
   "cell_type": "code",
   "execution_count": 103,
   "metadata": {},
   "outputs": [],
   "source": [
    "def insert_sort(arr):\n",
    "    for i in range(1,len(arr)):\n",
    "        current=arr[i]\n",
    "        pos=i\n",
    "        while pos>0 and arr[pos-1]>current:\n",
    "            arr[pos]=arr[pos-1]\n",
    "            pos=pos-1\n",
    "        arr[pos]=current\n",
    "    return arr"
   ]
  },
  {
   "cell_type": "code",
   "execution_count": 105,
   "metadata": {},
   "outputs": [
    {
     "data": {
      "text/plain": [
       "[2, 5, 6, 20, 30, 64, 100]"
      ]
     },
     "execution_count": 105,
     "metadata": {},
     "output_type": "execute_result"
    }
   ],
   "source": [
    "insert_sort([5,100,20,30,64,2,6])"
   ]
  },
  {
   "cell_type": "markdown",
   "metadata": {},
   "source": [
    "# SHELL  SORT"
   ]
  },
  {
   "cell_type": "code",
   "execution_count": 136,
   "metadata": {},
   "outputs": [],
   "source": [
    "def shell_sort(arr):\n",
    "    sublist=int(len(arr)/2)\n",
    "    while sublist>0:\n",
    "        for i in range(sublist):\n",
    "            get_sort(arr,i,sublist)\n",
    "        sublist=int(sublist/2)\n",
    "    return arr"
   ]
  },
  {
   "cell_type": "code",
   "execution_count": 139,
   "metadata": {},
   "outputs": [],
   "source": [
    "def get_sort(arr,start,gap):\n",
    "    for i in range(start+gap,len(arr),gap):\n",
    "        current=arr[i]\n",
    "        pos=i\n",
    "        while pos >0 and arr[pos-1]>current:\n",
    "            arr[pos]=arr[pos-1]\n",
    "            pos=pos-1\n",
    "        arr[pos]=current\n",
    "    return arr\n"
   ]
  },
  {
   "cell_type": "code",
   "execution_count": 140,
   "metadata": {},
   "outputs": [
    {
     "data": {
      "text/plain": [
       "[3, 4, 5, 6, 6, 12, 23, 45, 100]"
      ]
     },
     "execution_count": 140,
     "metadata": {},
     "output_type": "execute_result"
    }
   ],
   "source": [
    "shell_sort([5,12,3,4,6,100,23,45,6])"
   ]
  },
  {
   "cell_type": "markdown",
   "metadata": {},
   "source": [
    "# MERGE SORT"
   ]
  },
  {
   "cell_type": "code",
   "execution_count": 154,
   "metadata": {},
   "outputs": [],
   "source": [
    "def merge_sort(arr):\n",
    "    if len(arr)>1:\n",
    "        mid=int(len(arr)/2)\n",
    "        left_half=arr[:mid]\n",
    "        right_half=arr[mid:]\n",
    "        merge_sort(left_half)\n",
    "        merge_sort(right_half)\n",
    "        i=0;\n",
    "        j=0;\n",
    "        k=0\n",
    "        while i<len(left_half) and j<len(right_half):\n",
    "            if left_half[i]<right_half[j]:\n",
    "                arr[k]=left_half[i]\n",
    "                i+=1\n",
    "            else:\n",
    "                arr[k]=right_half[j]\n",
    "                j+=1\n",
    "            k+=1\n",
    "        while i<len(left_half):\n",
    "            arr[k]=left_half[i]\n",
    "            i+=1\n",
    "            k+=1\n",
    "        while j<len(right_half):\n",
    "            arr[k]=right_half[j]\n",
    "            j+=1\n",
    "            k+=1\n",
    "    return arr\n",
    "            "
   ]
  },
  {
   "cell_type": "code",
   "execution_count": 155,
   "metadata": {},
   "outputs": [
    {
     "data": {
      "text/plain": [
       "[4, 5, 6, 12, 34, 56, 90, 123]"
      ]
     },
     "execution_count": 155,
     "metadata": {},
     "output_type": "execute_result"
    }
   ],
   "source": [
    "arr1=[4,5,6,123,34,56,90,12]\n",
    "merge_sort(arr1)"
   ]
  },
  {
   "cell_type": "markdown",
   "metadata": {},
   "source": [
    "# QUICK SORT"
   ]
  },
  {
   "cell_type": "code",
   "execution_count": 176,
   "metadata": {},
   "outputs": [],
   "source": [
    "def quick_sort(arr):                                                                                                                                                      \n",
    "    \n",
    "    quick_sort_help(arr,0,len(arr)-1)\n",
    "\n",
    "def quick_sort_help(arr,first,last):\n",
    "    \n",
    "    if first<last:\n",
    "        \n",
    "\n",
    "        splitpoint = partition(arr,first,last)\n",
    "\n",
    "        quick_sort_help(arr,first,splitpoint-1)\n",
    "        quick_sort_help(arr,splitpoint+1,last)\n",
    "\n",
    "\n",
    "def partition(arr,first,last):\n",
    "    \n",
    "    pivotvalue = arr[first]\n",
    "\n",
    "    leftmark = first+1\n",
    "    rightmark = last\n",
    "\n",
    "\n",
    "    done = False\n",
    "    while not done:\n",
    "\n",
    "        while leftmark <= rightmark and arr[leftmark] <= pivotvalue:\n",
    "            leftmark = leftmark + 1\n",
    "           \n",
    "\n",
    "        while arr[rightmark] >= pivotvalue and rightmark >= leftmark:\n",
    "            rightmark = rightmark -1\n",
    "            \n",
    "\n",
    "        if rightmark < leftmark:\n",
    "            done = True\n",
    "        else:\n",
    "            temp = arr[leftmark]\n",
    "            arr[leftmark] = arr[rightmark]\n",
    "            arr[rightmark] = temp\n",
    "\n",
    "    temp = arr[first]\n",
    "    arr[first] = arr[rightmark]\n",
    "    arr[rightmark] = temp\n",
    "    print(rightmark)\n",
    "\n",
    "\n",
    "    return rightmark"
   ]
  }
 ],
 "metadata": {
  "kernelspec": {
   "display_name": "Python 3",
   "language": "python",
   "name": "python3"
  },
  "language_info": {
   "codemirror_mode": {
    "name": "ipython",
    "version": 3
   },
   "file_extension": ".py",
   "mimetype": "text/x-python",
   "name": "python",
   "nbconvert_exporter": "python",
   "pygments_lexer": "ipython3",
   "version": "3.7.4"
  }
 },
 "nbformat": 4,
 "nbformat_minor": 2
}
